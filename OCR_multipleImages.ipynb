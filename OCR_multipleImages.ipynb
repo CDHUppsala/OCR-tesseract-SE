{
 "cells": [
  {
   "cell_type": "markdown",
   "metadata": {},
   "source": [
    "# For multiple input images in a dataset, produce a searchable Pdf and OCR text\n",
    " The image layout is preserved. "
   ]
  },
  {
   "cell_type": "code",
   "execution_count": null,
   "metadata": {},
   "outputs": [],
   "source": [
    "# Set up\n",
    "\n",
    "#!pip install ?"
   ]
  },
  {
   "cell_type": "code",
   "execution_count": 1,
   "metadata": {},
   "outputs": [],
   "source": [
    "# Import modules\n",
    "\n",
    "from PIL import Image\n",
    "import pytesseract as pt\n",
    "import os"
   ]
  },
  {
   "cell_type": "code",
   "execution_count": 1,
   "metadata": {},
   "outputs": [],
   "source": [
    "# Layout preserved pytesseract + Swedish language support\n",
    "\n",
    "\n",
    "def main():\n",
    "    # path for the folder for getting the raw images\n",
    "    path =\"path_to_data_folder\"\n",
    "  \n",
    "    # path for the folder for getting the output\n",
    "    tempPath =\"path_to_textFile_folder\"\n",
    "    tempPath2 =\"path_to_PdfFile_folder\"\n",
    "  \n",
    "    # iterating the images inside the folder\n",
    "    for imageName in os.listdir(path):\n",
    "        \n",
    "        if not imageName.startswith('.'):  # to ignore .DS_store in Mac\n",
    "              \n",
    "            inputPath = os.path.join(path, imageName)\n",
    "            img = Image.open(inputPath)\n",
    "        \n",
    "            #configure parameters for pytesseract\n",
    "            custom_config = r'--oem 3 --psm 6' #oem 3: Default; psm 6: Assume a single uniform block of text.\n",
    "  \n",
    "            # applying ocr using pytesseract\n",
    "            text = pt.image_to_string(img, lang =\"swe\", config=custom_config)       # for text file output\n",
    "            text2 = pt.image_to_pdf_or_hocr(img, lang='swe', config=custom_config)  # for searchable Pdf\n",
    "  \n",
    "            # for removing the .jpg from the imagePath\n",
    "            imagePath = inputPath[0:-5]\n",
    "  \n",
    "            fullTempPath = os.path.join(tempPath, 'ocr_'+imageName+\".txt\")\n",
    "            #print(text)\n",
    "        \n",
    "            fullTempPath2 = os.path.join(tempPath2, 'ocr_'+imageName+\".pdf\")\n",
    "  \n",
    "            # saving the  text for every image in a separate .txt file\n",
    "            file1 = open(fullTempPath, \"w\")\n",
    "            file1.write(text)          # write text file output\n",
    "            file1.close()\n",
    "        \n",
    "            file2 = open(fullTempPath2, \"w+b\")\n",
    "            file2.write(bytearray(text2))  # write pdf file output\n",
    "            file2.close() \n",
    "  \n",
    "if __name__ == '__main__':\n",
    "    main()"
   ]
  }
 ],
 "metadata": {
  "kernelspec": {
   "display_name": "Python 3 (ipykernel)",
   "language": "python",
   "name": "python3"
  },
  "language_info": {
   "codemirror_mode": {
    "name": "ipython",
    "version": 3
   },
   "file_extension": ".py",
   "mimetype": "text/x-python",
   "name": "python",
   "nbconvert_exporter": "python",
   "pygments_lexer": "ipython3",
   "version": "3.9.7"
  }
 },
 "nbformat": 4,
 "nbformat_minor": 4
}
